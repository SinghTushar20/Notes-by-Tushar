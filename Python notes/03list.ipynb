{
 "cells": [
  {
   "cell_type": "code",
   "execution_count": 1,
   "metadata": {},
   "outputs": [],
   "source": [
    "def p(msg):\n",
    "    print(msg)\n",
    "\n"
   ]
  },
  {
   "cell_type": "code",
   "execution_count": 2,
   "metadata": {},
   "outputs": [
    {
     "name": "stdout",
     "output_type": "stream",
     "text": [
      "4\n"
     ]
    }
   ],
   "source": [
    "courses = ['maths','ai', 'ml','bigdata']\n",
    "p(len(courses))"
   ]
  },
  {
   "cell_type": "code",
   "execution_count": 4,
   "metadata": {},
   "outputs": [
    {
     "name": "stdout",
     "output_type": "stream",
     "text": [
      "maths\n",
      "bigdata\n",
      "['ai', 'ml']\n"
     ]
    }
   ],
   "source": [
    "p(courses[0])\n",
    "p(courses[-1])\n",
    "p(courses[1:3])"
   ]
  },
  {
   "cell_type": "code",
   "execution_count": 8,
   "metadata": {},
   "outputs": [
    {
     "name": "stdout",
     "output_type": "stream",
     "text": [
      "['cns', 'maths', 'ai', 'ml', 'bigdata', 'dbms', 'dbms', 'dbms', 'dbms']\n"
     ]
    }
   ],
   "source": [
    "courses.append('dbms')\n",
    "courses.insert(0,'cns')\n",
    "p(courses)"
   ]
  },
  {
   "cell_type": "code",
   "execution_count": 11,
   "metadata": {},
   "outputs": [
    {
     "name": "stdout",
     "output_type": "stream",
     "text": [
      "[['toc', 'daa'], ['toc', 'daa'], 'cns', 'maths', 'ai', 'ml', 'bigdata', 'dbms', 'dbms', 'dbms', 'dbms']\n"
     ]
    }
   ],
   "source": [
    "coursesInIt = ['toc', 'daa'] \n",
    "courses.insert(0,coursesInIt)  #it will form a nested list\n",
    "p(courses)"
   ]
  },
  {
   "cell_type": "code",
   "execution_count": 12,
   "metadata": {},
   "outputs": [
    {
     "name": "stdout",
     "output_type": "stream",
     "text": [
      "[['toc', 'daa'], ['toc', 'daa'], 'cns', 'maths', 'ai', 'ml', 'bigdata', 'dbms', 'dbms', 'dbms', 'dbms', 'toc', 'daa']\n"
     ]
    }
   ],
   "source": [
    "#if we want to add elements only then we have to use \n",
    "courses.extend(coursesInIt)\n",
    "p(courses)"
   ]
  },
  {
   "cell_type": "code",
   "execution_count": 13,
   "metadata": {},
   "outputs": [
    {
     "name": "stdout",
     "output_type": "stream",
     "text": [
      "toc\n",
      "[['toc', 'daa'], ['toc', 'daa'], 'cns', 'maths', 'ai', 'ml', 'bigdata', 'dbms', 'dbms', 'dbms', 'dbms']\n"
     ]
    }
   ],
   "source": [
    "#to remove the last element we can use:\n",
    "courses.pop()\n",
    "#we can store it somewhere also\n",
    "popped = courses.pop()\n",
    "p(popped)\n",
    "p(courses)"
   ]
  },
  {
   "cell_type": "code",
   "execution_count": 15,
   "metadata": {},
   "outputs": [
    {
     "name": "stdout",
     "output_type": "stream",
     "text": [
      "[2, 4, 5, 6, 10, 65, 94]\n"
     ]
    }
   ],
   "source": [
    "#inbuilt function \n",
    "nums = [6,4,10,65,94,2,5]\n",
    "nums.sort()  #this sort function do changes in the given list\n",
    "p(nums)\n"
   ]
  },
  {
   "cell_type": "code",
   "execution_count": 16,
   "metadata": {},
   "outputs": [
    {
     "name": "stdout",
     "output_type": "stream",
     "text": [
      "[94, 65, 10, 6, 5, 4, 2]\n"
     ]
    }
   ],
   "source": [
    "# sort in reversed oreder\n",
    "nums.sort(reverse=True)\n",
    "p(nums)"
   ]
  },
  {
   "cell_type": "code",
   "execution_count": 18,
   "metadata": {},
   "outputs": [
    {
     "name": "stdout",
     "output_type": "stream",
     "text": [
      "[2, 4, 5, 6, 10, 65, 94]\n",
      "[94, 65, 10, 6, 5, 4, 2]\n"
     ]
    }
   ],
   "source": [
    "# sorting without changes in the orginal list\n",
    "newNums = sorted(nums)\n",
    "p(newNums)\n",
    "p(nums)"
   ]
  },
  {
   "cell_type": "code",
   "execution_count": 19,
   "metadata": {},
   "outputs": [
    {
     "name": "stdout",
     "output_type": "stream",
     "text": [
      "2\n",
      "94\n",
      "186\n"
     ]
    }
   ],
   "source": [
    "p(min(nums))\n",
    "p(max(nums))\n",
    "p(sum(nums))\n"
   ]
  },
  {
   "cell_type": "code",
   "execution_count": 20,
   "metadata": {},
   "outputs": [
    {
     "name": "stdout",
     "output_type": "stream",
     "text": [
      "ml,ai,webteck,bigdata,os,python\n"
     ]
    }
   ],
   "source": [
    "# List to String \n",
    "subject = ['ml', 'ai','webteck', 'bigdata', 'os', 'python']\n",
    "courseStr = ','.join(subject)\n",
    "p(courseStr)"
   ]
  },
  {
   "cell_type": "code",
   "execution_count": 22,
   "metadata": {},
   "outputs": [
    {
     "name": "stdout",
     "output_type": "stream",
     "text": [
      "ml-ai-webteck-bigdata-os-python\n"
     ]
    }
   ],
   "source": [
    "courseStr = '-'.join(subject)\n",
    "p(courseStr)"
   ]
  },
  {
   "cell_type": "code",
   "execution_count": 23,
   "metadata": {},
   "outputs": [
    {
     "name": "stdout",
     "output_type": "stream",
     "text": [
      "['ml', 'ai', 'webteck', 'bigdata', 'os', 'python']\n"
     ]
    }
   ],
   "source": [
    "# String to list (most important)\n",
    "newList = courseStr.split('-')\n",
    "p(newList)"
   ]
  },
  {
   "cell_type": "code",
   "execution_count": 25,
   "metadata": {},
   "outputs": [
    {
     "name": "stdout",
     "output_type": "stream",
     "text": [
      "['If', \"you'd\", 'like', 'to', 'take', 'part', 'in', 'Bug', 'Bounty', 'from', 'the', 'European', 'Union,', 'the', 'list', 'of', 'projects,', 'participating', 'in', 'this', 'program,', 'can', 'be', 'found', 'here.', 'For', 'most', 'projects,', 'it', 'will', 'be', 'enough', 'to', 'be', 'registered', 'on', 'HackerOne,', 'but', 'many', 'of', 'listed', 'programs', 'are', 'also', 'on', 'the', 'intigriti.com', 'website.']\n",
      "48\n"
     ]
    }
   ],
   "source": [
    "str = \"If you'd like to take part in Bug Bounty from the European Union, the list of projects, participating in this program, can be found here. For most projects, it will be enough to be registered on HackerOne, but many of listed programs are also on the intigriti.com website.\"\n",
    "newList = str.split(' ')\n",
    "p(newList)\n",
    "p(len(newList))"
   ]
  },
  {
   "cell_type": "code",
   "execution_count": 26,
   "metadata": {},
   "outputs": [
    {
     "name": "stdout",
     "output_type": "stream",
     "text": [
      "['vishal', 'singh']\n"
     ]
    }
   ],
   "source": [
    "# Lists has Shallow copy\n",
    "list1 = ['tushr','singh']\n",
    "list2 = list1\n",
    "list2[0] = 'vishal'\n",
    "p(list1)"
   ]
  },
  {
   "cell_type": "code",
   "execution_count": null,
   "metadata": {},
   "outputs": [],
   "source": []
  }
 ],
 "metadata": {
  "kernelspec": {
   "display_name": "Python 3",
   "language": "python",
   "name": "python3"
  },
  "language_info": {
   "codemirror_mode": {
    "name": "ipython",
    "version": 3
   },
   "file_extension": ".py",
   "mimetype": "text/x-python",
   "name": "python",
   "nbconvert_exporter": "python",
   "pygments_lexer": "ipython3",
   "version": "3.11.0"
  },
  "orig_nbformat": 4,
  "vscode": {
   "interpreter": {
    "hash": "5238573367df39f7286bb46f9ff5f08f63a01a80960060ce41e3c79b190280fa"
   }
  }
 },
 "nbformat": 4,
 "nbformat_minor": 2
}
