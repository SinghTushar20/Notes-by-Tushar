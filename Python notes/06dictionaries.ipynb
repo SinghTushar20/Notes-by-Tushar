{
 "cells": [
  {
   "cell_type": "code",
   "execution_count": 1,
   "metadata": {},
   "outputs": [],
   "source": [
    "#Dictionaries are like map in C++ and hash map in java and objects in Java Script\n",
    "# we can use Multiple datatype in Python dictionaries"
   ]
  },
  {
   "cell_type": "code",
   "execution_count": 2,
   "metadata": {},
   "outputs": [],
   "source": [
    "def p(msg):\n",
    "    print(msg)"
   ]
  },
  {
   "cell_type": "code",
   "execution_count": 3,
   "metadata": {},
   "outputs": [
    {
     "name": "stdout",
     "output_type": "stream",
     "text": [
      "Comp A\n"
     ]
    },
    {
     "data": {
      "text/plain": [
       "'Comp A'"
      ]
     },
     "execution_count": 3,
     "metadata": {},
     "output_type": "execute_result"
    }
   ],
   "source": [
    "studentInfo = {'name': 'Tushar', 'class': 'Comp A', 'Year': 'te'}\n",
    "p(studentInfo['class'])   #accesing values from key\n",
    "studentInfo.get('class')"
   ]
  },
  {
   "cell_type": "code",
   "execution_count": 11,
   "metadata": {},
   "outputs": [
    {
     "ename": "KeyError",
     "evalue": "'rollNo'",
     "output_type": "error",
     "traceback": [
      "\u001b[1;31m---------------------------------------------------------------------------\u001b[0m",
      "\u001b[1;31mKeyError\u001b[0m                                  Traceback (most recent call last)",
      "Cell \u001b[1;32mIn[11], line 1\u001b[0m\n\u001b[1;32m----> 1\u001b[0m p(studentInfo[\u001b[39m'\u001b[39;49m\u001b[39mrollNo\u001b[39;49m\u001b[39m'\u001b[39;49m])\n",
      "\u001b[1;31mKeyError\u001b[0m: 'rollNo'"
     ]
    }
   ],
   "source": [
    "p(studentInfo['rollNo'])\n"
   ]
  },
  {
   "cell_type": "code",
   "execution_count": 13,
   "metadata": {},
   "outputs": [
    {
     "name": "stdout",
     "output_type": "stream",
     "text": [
      "None\n"
     ]
    }
   ],
   "source": [
    "p(studentInfo.get('rollNo'))"
   ]
  },
  {
   "cell_type": "code",
   "execution_count": 14,
   "metadata": {},
   "outputs": [
    {
     "name": "stdout",
     "output_type": "stream",
     "text": [
      "rollNo does not exist\n"
     ]
    }
   ],
   "source": [
    "p(studentInfo.get('rollNo', 'rollNo does not exist'))"
   ]
  },
  {
   "cell_type": "code",
   "execution_count": 15,
   "metadata": {},
   "outputs": [
    {
     "name": "stdout",
     "output_type": "stream",
     "text": [
      "{'name': 'vishal', 'class': '12th', 'Year': 'te', 'age': 15}\n"
     ]
    }
   ],
   "source": [
    "studentInfo.update({'name':'vishal', 'class': '12th', 'age':15})\n",
    "p(studentInfo)"
   ]
  },
  {
   "cell_type": "code",
   "execution_count": 16,
   "metadata": {},
   "outputs": [
    {
     "name": "stdout",
     "output_type": "stream",
     "text": [
      "{'name': 'vishal', 'class': '12th', 'Year': 'te'}\n"
     ]
    }
   ],
   "source": [
    "#delete\n",
    "del studentInfo['age']\n",
    "p(studentInfo)"
   ]
  },
  {
   "cell_type": "code",
   "execution_count": 17,
   "metadata": {},
   "outputs": [
    {
     "name": "stdout",
     "output_type": "stream",
     "text": [
      "{'class': '12th', 'Year': 'te'}\n"
     ]
    }
   ],
   "source": [
    "studentInfo.pop('name')\n",
    "p(studentInfo)"
   ]
  },
  {
   "cell_type": "code",
   "execution_count": 19,
   "metadata": {},
   "outputs": [
    {
     "name": "stdout",
     "output_type": "stream",
     "text": [
      "dict_items([('class', '12th'), ('Year', 'te'), ('name', 'vishal'), ('age', 15)])\n",
      "dict_values(['12th', 'te', 'vishal', 15])\n",
      "dict_keys(['class', 'Year', 'name', 'age'])\n"
     ]
    }
   ],
   "source": [
    "#different way to see data of a dictionary\n",
    "studentInfo.update({'name':'vishal', 'class': '12th', 'age':15})\n",
    "p(studentInfo.items())\n",
    "p(studentInfo.values())\n",
    "p(studentInfo.keys())"
   ]
  },
  {
   "cell_type": "code",
   "execution_count": null,
   "metadata": {},
   "outputs": [],
   "source": []
  }
 ],
 "metadata": {
  "kernelspec": {
   "display_name": "Python 3",
   "language": "python",
   "name": "python3"
  },
  "language_info": {
   "codemirror_mode": {
    "name": "ipython",
    "version": 3
   },
   "file_extension": ".py",
   "mimetype": "text/x-python",
   "name": "python",
   "nbconvert_exporter": "python",
   "pygments_lexer": "ipython3",
   "version": "3.11.0"
  },
  "orig_nbformat": 4,
  "vscode": {
   "interpreter": {
    "hash": "5238573367df39f7286bb46f9ff5f08f63a01a80960060ce41e3c79b190280fa"
   }
  }
 },
 "nbformat": 4,
 "nbformat_minor": 2
}
