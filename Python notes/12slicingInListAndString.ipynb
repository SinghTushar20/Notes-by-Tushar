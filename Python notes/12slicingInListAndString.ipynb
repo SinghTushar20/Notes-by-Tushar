{
 "cells": [
  {
   "cell_type": "code",
   "execution_count": 1,
   "metadata": {},
   "outputs": [
    {
     "name": "stdout",
     "output_type": "stream",
     "text": [
      "[874, 989, 5, 4, 5, 5, 5, 35, 5, 4, 3, 2, 1]\n",
      "[1, 2, 3, 4, 5, 35, 5, 5]\n",
      "[2, 4, 35]\n",
      "[4]\n"
     ]
    }
   ],
   "source": [
    "def p(msg):\n",
    "    print(msg)\n",
    "ls = [1,2,3,4,5,35,5,5,5,4,5,989,874]\n",
    "p(ls[::-1])\n",
    "p(ls[0:8:1])\n",
    "p(ls[1:6:2])\n",
    "p(ls[-10:2:-2])"
   ]
  },
  {
   "cell_type": "code",
   "execution_count": null,
   "metadata": {},
   "outputs": [],
   "source": [
    "# General syntax of slicing\n",
    "# listName[start:end:step]\n",
    "# same thing for string "
   ]
  }
 ],
 "metadata": {
  "kernelspec": {
   "display_name": "Python 3",
   "language": "python",
   "name": "python3"
  },
  "language_info": {
   "codemirror_mode": {
    "name": "ipython",
    "version": 3
   },
   "file_extension": ".py",
   "mimetype": "text/x-python",
   "name": "python",
   "nbconvert_exporter": "python",
   "pygments_lexer": "ipython3",
   "version": "3.11.0"
  },
  "orig_nbformat": 4,
  "vscode": {
   "interpreter": {
    "hash": "5238573367df39f7286bb46f9ff5f08f63a01a80960060ce41e3c79b190280fa"
   }
  }
 },
 "nbformat": 4,
 "nbformat_minor": 2
}
