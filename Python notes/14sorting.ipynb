{
 "cells": [
  {
   "cell_type": "code",
   "execution_count": 2,
   "metadata": {},
   "outputs": [],
   "source": [
    "# we have 2 choices one is to use sort method which change the list provided in input\n",
    "#   and sorted function which does not alter input parameter"
   ]
  },
  {
   "cell_type": "code",
   "execution_count": 3,
   "metadata": {},
   "outputs": [],
   "source": [
    "def p(msg):\n",
    "    print(msg)"
   ]
  },
  {
   "cell_type": "code",
   "execution_count": 4,
   "metadata": {},
   "outputs": [
    {
     "name": "stdout",
     "output_type": "stream",
     "text": [
      "[9, 3, 4, 7, 34, 76, 92]\n"
     ]
    }
   ],
   "source": [
    "ls = [9,3,4,7,34,76,92]\n",
    "# ls.sort()              this will alter the list \n",
    "p(ls)"
   ]
  },
  {
   "cell_type": "code",
   "execution_count": 5,
   "metadata": {},
   "outputs": [
    {
     "name": "stdout",
     "output_type": "stream",
     "text": [
      "[9, 3, 4, 7, 34, 76, 92]\n",
      "[3, 4, 7, 9, 34, 76, 92]\n"
     ]
    }
   ],
   "source": [
    "lsSorted = sorted(ls)\n",
    "p(ls)\n",
    "p(lsSorted)"
   ]
  },
  {
   "cell_type": "code",
   "execution_count": 6,
   "metadata": {},
   "outputs": [
    {
     "name": "stdout",
     "output_type": "stream",
     "text": [
      "[-1, -3, 5, 6, 7, -10, 87]\n"
     ]
    }
   ],
   "source": [
    "# using key to sort list as per some custom \n",
    "ls1 = [-1,-10,87,7,-3,6,5]\n",
    "lsSortedAbs = sorted(ls1, key = abs)\n",
    "p(lsSortedAbs)"
   ]
  },
  {
   "cell_type": "code",
   "execution_count": 7,
   "metadata": {},
   "outputs": [
    {
     "name": "stdout",
     "output_type": "stream",
     "text": [
      "[-1, -3, 5, 6, 7, -10, 87]\n"
     ]
    }
   ],
   "source": [
    "# now passing custom function\n",
    "def absNeg(x):\n",
    "    if(x >= 0):\n",
    "        return x\n",
    "    return -x\n",
    "lsAsFunction = sorted(ls1,key = absNeg)\n",
    "p(lsAsFunction)"
   ]
  },
  {
   "cell_type": "code",
   "execution_count": 8,
   "metadata": {},
   "outputs": [
    {
     "name": "stdout",
     "output_type": "stream",
     "text": [
      "(John,3777222,36)\n"
     ]
    }
   ],
   "source": [
    "class Person:\n",
    "  def __init__(self, name, age, salary):\n",
    "    self.name = name\n",
    "    self.age = age\n",
    "    self.salary = salary\n",
    "  def __repr__(self):\n",
    "    return f'({self.name},{self.salary},{self.age})'\n",
    "    \n",
    "\n",
    "p1 = Person(\"John\", 36, 3777222)\n",
    "\n",
    "p(p1)"
   ]
  },
  {
   "cell_type": "code",
   "execution_count": 9,
   "metadata": {},
   "outputs": [
    {
     "name": "stdout",
     "output_type": "stream",
     "text": [
      "(tushar,2000000,21)\n"
     ]
    }
   ],
   "source": [
    "class Employee:\n",
    "    def __init__(self, name, age, salary):\n",
    "        self.name = name\n",
    "        self.age = age\n",
    "        self.salary = salary\n",
    "    def __repr__(self):\n",
    "        return f'({self.name},{self.salary},{self.age})'\n",
    "\n",
    "e1 = Employee('tushar',21,2000000)\n",
    "e2 = Employee('vishal',17,3000000)\n",
    "e3 = Employee('shub',22,1500000)\n",
    "p(e1)"
   ]
  },
  {
   "cell_type": "code",
   "execution_count": 11,
   "metadata": {},
   "outputs": [
    {
     "name": "stdout",
     "output_type": "stream",
     "text": [
      "[(shub,1500000,22), (tushar,2000000,21), (vishal,3000000,17)]\n",
      "[(vishal,3000000,17), (tushar,2000000,21), (shub,1500000,22)]\n"
     ]
    }
   ],
   "source": [
    "def sortBySalary(e):\n",
    "    return e.salary\n",
    "\n",
    "def sortByAge(e):\n",
    "    return e.age\n",
    "\n",
    "empList = [e1,e2,e3]\n",
    "empSalary = sorted(empList, key = sortBySalary)\n",
    "p(empSalary)\n",
    "empSalary = sorted(empList, key = sortByAge)\n",
    "p(empSalary)"
   ]
  },
  {
   "cell_type": "code",
   "execution_count": null,
   "metadata": {},
   "outputs": [],
   "source": []
  }
 ],
 "metadata": {
  "kernelspec": {
   "display_name": "Python 3",
   "language": "python",
   "name": "python3"
  },
  "language_info": {
   "codemirror_mode": {
    "name": "ipython",
    "version": 3
   },
   "file_extension": ".py",
   "mimetype": "text/x-python",
   "name": "python",
   "nbconvert_exporter": "python",
   "pygments_lexer": "ipython3",
   "version": "3.11.0"
  },
  "orig_nbformat": 4,
  "vscode": {
   "interpreter": {
    "hash": "5238573367df39f7286bb46f9ff5f08f63a01a80960060ce41e3c79b190280fa"
   }
  }
 },
 "nbformat": 4,
 "nbformat_minor": 2
}
