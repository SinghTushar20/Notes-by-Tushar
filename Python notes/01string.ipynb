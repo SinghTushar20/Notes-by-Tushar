{
 "cells": [
  {
   "cell_type": "code",
   "execution_count": 4,
   "metadata": {},
   "outputs": [
    {
     "name": "stdout",
     "output_type": "stream",
     "text": [
      "hello\n"
     ]
    }
   ],
   "source": [
    "print('hello')"
   ]
  },
  {
   "cell_type": "code",
   "execution_count": 5,
   "metadata": {},
   "outputs": [],
   "source": [
    "def p(message):\n",
    "    print(message)"
   ]
  },
  {
   "cell_type": "code",
   "execution_count": 6,
   "metadata": {},
   "outputs": [
    {
     "name": "stdout",
     "output_type": "stream",
     "text": [
      "Hello\n",
      "Tushar's Hello\n",
      "Tushar's Hello\n",
      "Computer is a \n",
      "powerful machine\n"
     ]
    }
   ],
   "source": [
    "message = 'Hello'\n",
    "s = \"Tushar's Hello\"\n",
    "s1 = 'Tushar\\'s Hello'\n",
    "s2 = \"\"\"Computer is a \n",
    "powerful machine\"\"\"\n",
    "print(message)\n",
    "print(s)\n",
    "print(s1)\n",
    "print(s2)\n"
   ]
  },
  {
   "cell_type": "code",
   "execution_count": 7,
   "metadata": {},
   "outputs": [
    {
     "name": "stdout",
     "output_type": "stream",
     "text": [
      "14\n",
      "31\n"
     ]
    }
   ],
   "source": [
    "#Length of String:\n",
    "n = len(s)\n",
    "n1 = len(s2)\n",
    "print(n)\n",
    "print(n1)"
   ]
  },
  {
   "cell_type": "code",
   "execution_count": 8,
   "metadata": {},
   "outputs": [
    {
     "name": "stdout",
     "output_type": "stream",
     "text": [
      "o\n",
      "Hello\n",
      "ll\n"
     ]
    }
   ],
   "source": [
    "#accessing string charachters:\n",
    "print(message[-1])\n",
    "print(message[0:])    #slicing of String\n",
    "print(message[2:4])\n"
   ]
  },
  {
   "cell_type": "code",
   "execution_count": 9,
   "metadata": {},
   "outputs": [
    {
     "name": "stdout",
     "output_type": "stream",
     "text": [
      "1\n",
      "2\n"
     ]
    }
   ],
   "source": [
    "#inbuilt methods in string\n",
    "\n",
    "#1.COUNT:\n",
    "# This function allow us to pass String or Charachter and give its count\n",
    "p(s1.count('Tushar'))   \n",
    "p(s2.count('i'))\n"
   ]
  },
  {
   "cell_type": "code",
   "execution_count": 10,
   "metadata": {},
   "outputs": [
    {
     "name": "stdout",
     "output_type": "stream",
     "text": [
      "0\n",
      "3\n"
     ]
    }
   ],
   "source": [
    "#2.FIND\n",
    "#This function returns the index of first occurence of the input parameter\n",
    "p(s1.find('Tus'))\n",
    "s3 = 'tistusistussingh'\n",
    "p(s3.find('tus'))"
   ]
  },
  {
   "cell_type": "code",
   "execution_count": 15,
   "metadata": {},
   "outputs": [
    {
     "name": "stdout",
     "output_type": "stream",
     "text": [
      "Hello World\n",
      "Hello Tushar\n",
      "aaaaaaaaaa\n"
     ]
    }
   ],
   "source": [
    "#3.Replace\n",
    "#This function replaces the input parameter with a given parameter at every place\n",
    "s4 = \"Hello World\"\n",
    "new_s4 = s4.replace('World', 'Tushar')\n",
    "p(s4)           #s4 remains same because string we need to make a new string\n",
    "p(new_s4)\n",
    "s5 = 'tttttttttt'\n",
    "new_s5 = s5.replace('t','a')\n",
    "p(new_s5)"
   ]
  },
  {
   "cell_type": "code",
   "execution_count": 19,
   "metadata": {},
   "outputs": [
    {
     "name": "stdout",
     "output_type": "stream",
     "text": [
      "Hello, World! .Welcome\n",
      "Hello, World! .Welcome\n",
      "Hello, World! .Welcome\n"
     ]
    }
   ],
   "source": [
    "#String Concatenation\n",
    "greeting = 'Hello'\n",
    "whom = 'World!'\n",
    "wish = greeting + ', ' + whom + ' .Welcome'\n",
    "p(wish)\n",
    "sameWish = '{}, {} .Welcome'.format(greeting,whom)\n",
    "p(sameWish)\n",
    "\n",
    "#f string after Python 3.7\n",
    "copyWish = f'{greeting}, {whom} .Welcome'  #This allow directly writing in Curly braces\n",
    "p(copyWish)"
   ]
  },
  {
   "cell_type": "code",
   "execution_count": 22,
   "metadata": {},
   "outputs": [
    {
     "name": "stdout",
     "output_type": "stream",
     "text": [
      "hello, world! .welcome\n",
      "HELLO, WORLD! .WELCOME\n"
     ]
    }
   ],
   "source": [
    "#lower and upper\n",
    "p(wish.lower())\n",
    "p(wish.upper())"
   ]
  },
  {
   "cell_type": "code",
   "execution_count": null,
   "metadata": {},
   "outputs": [],
   "source": []
  }
 ],
 "metadata": {
  "kernelspec": {
   "display_name": "Python 3",
   "language": "python",
   "name": "python3"
  },
  "language_info": {
   "codemirror_mode": {
    "name": "ipython",
    "version": 3
   },
   "file_extension": ".py",
   "mimetype": "text/x-python",
   "name": "python",
   "nbconvert_exporter": "python",
   "pygments_lexer": "ipython3",
   "version": "3.11.0 (main, Oct 24 2022, 18:26:48) [MSC v.1933 64 bit (AMD64)]"
  },
  "orig_nbformat": 4,
  "vscode": {
   "interpreter": {
    "hash": "5238573367df39f7286bb46f9ff5f08f63a01a80960060ce41e3c79b190280fa"
   }
  }
 },
 "nbformat": 4,
 "nbformat_minor": 2
}
